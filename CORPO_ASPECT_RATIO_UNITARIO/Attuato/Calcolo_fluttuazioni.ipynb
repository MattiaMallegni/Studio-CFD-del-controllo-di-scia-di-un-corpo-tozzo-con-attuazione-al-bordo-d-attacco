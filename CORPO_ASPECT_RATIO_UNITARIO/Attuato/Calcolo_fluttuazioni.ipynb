{
 "cells": [
  {
   "cell_type": "code",
   "execution_count": 2,
   "id": "bebbe908-b781-473f-bdb7-bee928c6c535",
   "metadata": {},
   "outputs": [
    {
     "name": "stdout",
     "output_type": "stream",
     "text": [
      "✔️ File 'segnale_Cl.dat' e 'segnale2_Cl.dat' caricati con successo.\n",
      "✔️ Dati filtrati correttamente nell'intervallo da t = 160s a t = 525s.\n",
      "\n",
      "--- Risultati dell'Analisi ---\n",
      "Intervallo di tempo analizzato: [160s, 525s]\n",
      "Deviazione Standard per 'segnale_Cl.dat': 1.597075\n",
      "Deviazione Standard per 'segnale2_Cl.dat':   0.452206\n",
      "----------------------------------------------------------------\n",
      "📊 Confrontando i due segnali, si osserva una RIDUZIONE delle fluttuazioni del 71.69%.\n",
      "----------------------------------------------------------------\n"
     ]
    },
    {
     "name": "stderr",
     "output_type": "stream",
     "text": [
      "<>:18: SyntaxWarning: invalid escape sequence '\\s'\n",
      "<>:19: SyntaxWarning: invalid escape sequence '\\s'\n",
      "<>:18: SyntaxWarning: invalid escape sequence '\\s'\n",
      "<>:19: SyntaxWarning: invalid escape sequence '\\s'\n",
      "/tmp/ipykernel_5753/175670637.py:18: SyntaxWarning: invalid escape sequence '\\s'\n",
      "  df_orig = pd.read_csv(file_originale, sep='\\s+', header=None, names=nomi_colonne, on_bad_lines='skip')\n",
      "/tmp/ipykernel_5753/175670637.py:19: SyntaxWarning: invalid escape sequence '\\s'\n",
      "  df_conf = pd.read_csv(file_confronto, sep='\\s+', header=None, names=nomi_colonne, on_bad_lines='skip')\n"
     ]
    }
   ],
   "source": [
    "import pandas as pd\n",
    "\n",
    "# --- PARAMETRI DEI FILE E DELL'ANALISI ---\n",
    "# Nomi dei file corretti che hai fornito.\n",
    "file_originale = # Rinominare e inserire in questo spazio il file segnale_Cl\n",
    "file_confronto = 'segnale2_Cl.dat'\n",
    "\n",
    "# Nomi da assegnare alle colonne\n",
    "nomi_colonne = ['Time', 'Value']\n",
    "\n",
    "# Intervallo di tempo per l'analisi\n",
    "tempo_iniziale = 160\n",
    "tempo_finale = 525\n",
    "# ---------------------------------------------\n",
    "\n",
    "try:\n",
    "    # Caricamento dei file .dat\n",
    "    df_orig = pd.read_csv(file_originale, sep='\\s+', header=None, names=nomi_colonne, on_bad_lines='skip')\n",
    "    df_conf = pd.read_csv(file_confronto, sep='\\s+', header=None, names=nomi_colonne, on_bad_lines='skip')\n",
    "\n",
    "    print(f\"✔️ File '{file_originale}' e '{file_confronto}' caricati con successo.\")\n",
    "\n",
    "    # 1. Filtraggio dei dati nell'intervallo [160s, 525s]\n",
    "    df_orig_intervallo = df_orig[(df_orig['Time'] >= tempo_iniziale) & (df_orig['Time'] <= tempo_finale)]\n",
    "    df_conf_intervallo = df_conf[(df_conf['Time'] >= tempo_iniziale) & (df_conf['Time'] <= tempo_finale)]\n",
    "    \n",
    "    print(f\"✔️ Dati filtrati correttamente nell'intervallo da t = {tempo_iniziale}s a t = {tempo_finale}s.\")\n",
    "\n",
    "    # 2. Calcolo della deviazione standard\n",
    "    std_originale = df_orig_intervallo['Value'].std()\n",
    "    std_confronto = df_conf_intervallo['Value'].std()\n",
    "\n",
    "    # 3. Calcolo della riduzione percentuale\n",
    "    if std_originale > 0:\n",
    "        riduzione_percentuale = ((std_originale - std_confronto) / std_originale) * 100\n",
    "    else:\n",
    "        riduzione_percentuale = float('inf')\n",
    "\n",
    "    # 4. Stampa dei risultati\n",
    "    print(\"\\n--- Risultati dell'Analisi ---\")\n",
    "    print(f\"Intervallo di tempo analizzato: [{tempo_iniziale}s, {tempo_finale}s]\")\n",
    "    print(f\"Deviazione Standard per '{file_originale}': {std_originale:.6f}\")\n",
    "    print(f\"Deviazione Standard per '{file_confronto}':   {std_confronto:.6f}\")\n",
    "    print(\"----------------------------------------------------------------\")\n",
    "    if riduzione_percentuale > 0:\n",
    "        print(f\"📊 Confrontando i due segnali, si osserva una RIDUZIONE delle fluttuazioni del {riduzione_percentuale:.2f}%.\")\n",
    "    else:\n",
    "        print(f\"📈 Confrontando i due segnali, si osserva un AUMENTO delle fluttuazioni del {-riduzione_percentuale:.2f}%.\")\n",
    "    print(\"----------------------------------------------------------------\")\n",
    "\n",
    "except FileNotFoundError as e:\n",
    "    print(f\"\\nERRORE: File non trovato -> {e.filename}\")\n",
    "    print(\"Controlla che lo script e i file .dat siano nella stessa cartella e che i nomi siano corretti.\")\n",
    "except Exception as e:\n",
    "    print(f\"\\nSi è verificato un errore: {e}\")"
   ]
  },
  {
   "cell_type": "code",
   "execution_count": null,
   "id": "0bc15576-d1a3-44f6-9099-97cf270c896c",
   "metadata": {},
   "outputs": [],
   "source": []
  }
 ],
 "metadata": {
  "kernelspec": {
   "display_name": "Python [conda env:base] *",
   "language": "python",
   "name": "conda-base-py"
  },
  "language_info": {
   "codemirror_mode": {
    "name": "ipython",
    "version": 3
   },
   "file_extension": ".py",
   "mimetype": "text/x-python",
   "name": "python",
   "nbconvert_exporter": "python",
   "pygments_lexer": "ipython3",
   "version": "3.12.2"
  }
 },
 "nbformat": 4,
 "nbformat_minor": 5
}
